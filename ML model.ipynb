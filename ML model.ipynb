{
 "cells": [
  {
   "cell_type": "code",
   "execution_count": 1,
   "metadata": {},
   "outputs": [],
   "source": [
    "import pandas as pd\n",
    "import numpy as np\n",
    "import matplotlib.pyplot as plt\n",
    "import seaborn as sns\n",
    "sns.set()"
   ]
  },
  {
   "cell_type": "markdown",
   "metadata": {},
   "source": [
    "## Logistic regression model\n",
    "\n",
    "First:\n",
    "\n",
    "    - Split into test train sets\n",
    "    - Standardize features\n",
    "    - Clean up data where necessary"
   ]
  },
  {
   "cell_type": "code",
   "execution_count": 2,
   "metadata": {},
   "outputs": [
    {
     "data": {
      "text/html": [
       "<div>\n",
       "<style scoped>\n",
       "    .dataframe tbody tr th:only-of-type {\n",
       "        vertical-align: middle;\n",
       "    }\n",
       "\n",
       "    .dataframe tbody tr th {\n",
       "        vertical-align: top;\n",
       "    }\n",
       "\n",
       "    .dataframe thead th {\n",
       "        text-align: right;\n",
       "    }\n",
       "</style>\n",
       "<table border=\"1\" class=\"dataframe\">\n",
       "  <thead>\n",
       "    <tr style=\"text-align: right;\">\n",
       "      <th></th>\n",
       "      <th>Education</th>\n",
       "      <th>group_1</th>\n",
       "      <th>group_2</th>\n",
       "      <th>group_3</th>\n",
       "      <th>group_4</th>\n",
       "      <th>bEducation</th>\n",
       "      <th>Transportation Expense</th>\n",
       "      <th>Distance to Work</th>\n",
       "      <th>Age</th>\n",
       "      <th>Daily Work Load Average</th>\n",
       "      <th>Body Mass Index</th>\n",
       "      <th>month</th>\n",
       "      <th>day of week</th>\n",
       "      <th>Children</th>\n",
       "      <th>Pets</th>\n",
       "    </tr>\n",
       "  </thead>\n",
       "  <tbody>\n",
       "    <tr>\n",
       "      <th>0</th>\n",
       "      <td>1</td>\n",
       "      <td>1</td>\n",
       "      <td>0</td>\n",
       "      <td>0</td>\n",
       "      <td>0</td>\n",
       "      <td>0</td>\n",
       "      <td>-0.663158</td>\n",
       "      <td>1.395943</td>\n",
       "      <td>0.219843</td>\n",
       "      <td>0.890554</td>\n",
       "      <td>0.998129</td>\n",
       "      <td>1.357572</td>\n",
       "      <td>0.649803</td>\n",
       "      <td>-0.905873</td>\n",
       "      <td>-0.567181</td>\n",
       "    </tr>\n",
       "    <tr>\n",
       "      <th>1</th>\n",
       "      <td>1</td>\n",
       "      <td>0</td>\n",
       "      <td>0</td>\n",
       "      <td>0</td>\n",
       "      <td>0</td>\n",
       "      <td>0</td>\n",
       "      <td>0.029553</td>\n",
       "      <td>-0.271423</td>\n",
       "      <td>-1.334604</td>\n",
       "      <td>-0.758513</td>\n",
       "      <td>-0.645157</td>\n",
       "      <td>0.784022</td>\n",
       "      <td>-1.356943</td>\n",
       "      <td>-0.026690</td>\n",
       "      <td>1.100123</td>\n",
       "    </tr>\n",
       "    <tr>\n",
       "      <th>2</th>\n",
       "      <td>1</td>\n",
       "      <td>0</td>\n",
       "      <td>0</td>\n",
       "      <td>1</td>\n",
       "      <td>0</td>\n",
       "      <td>0</td>\n",
       "      <td>0.345791</td>\n",
       "      <td>-0.338118</td>\n",
       "      <td>0.686177</td>\n",
       "      <td>2.700691</td>\n",
       "      <td>-0.879913</td>\n",
       "      <td>-0.076303</td>\n",
       "      <td>-1.356943</td>\n",
       "      <td>-0.905873</td>\n",
       "      <td>-0.567181</td>\n",
       "    </tr>\n",
       "    <tr>\n",
       "      <th>3</th>\n",
       "      <td>3</td>\n",
       "      <td>0</td>\n",
       "      <td>0</td>\n",
       "      <td>0</td>\n",
       "      <td>1</td>\n",
       "      <td>1</td>\n",
       "      <td>-0.663158</td>\n",
       "      <td>-0.271423</td>\n",
       "      <td>-1.023714</td>\n",
       "      <td>-0.636185</td>\n",
       "      <td>-1.818933</td>\n",
       "      <td>-0.649852</td>\n",
       "      <td>1.318719</td>\n",
       "      <td>-0.905873</td>\n",
       "      <td>-0.567181</td>\n",
       "    </tr>\n",
       "    <tr>\n",
       "      <th>4</th>\n",
       "      <td>1</td>\n",
       "      <td>0</td>\n",
       "      <td>0</td>\n",
       "      <td>0</td>\n",
       "      <td>1</td>\n",
       "      <td>0</td>\n",
       "      <td>-1.581753</td>\n",
       "      <td>-1.338538</td>\n",
       "      <td>0.064399</td>\n",
       "      <td>-0.071040</td>\n",
       "      <td>0.293863</td>\n",
       "      <td>1.357572</td>\n",
       "      <td>-1.356943</td>\n",
       "      <td>-0.905873</td>\n",
       "      <td>-0.567181</td>\n",
       "    </tr>\n",
       "  </tbody>\n",
       "</table>\n",
       "</div>"
      ],
      "text/plain": [
       "   Education  group_1  group_2  group_3  group_4  bEducation  \\\n",
       "0          1        1        0        0        0           0   \n",
       "1          1        0        0        0        0           0   \n",
       "2          1        0        0        1        0           0   \n",
       "3          3        0        0        0        1           1   \n",
       "4          1        0        0        0        1           0   \n",
       "\n",
       "   Transportation Expense  Distance to Work       Age  \\\n",
       "0               -0.663158          1.395943  0.219843   \n",
       "1                0.029553         -0.271423 -1.334604   \n",
       "2                0.345791         -0.338118  0.686177   \n",
       "3               -0.663158         -0.271423 -1.023714   \n",
       "4               -1.581753         -1.338538  0.064399   \n",
       "\n",
       "   Daily Work Load Average  Body Mass Index     month  day of week  Children  \\\n",
       "0                 0.890554         0.998129  1.357572     0.649803 -0.905873   \n",
       "1                -0.758513        -0.645157  0.784022    -1.356943 -0.026690   \n",
       "2                 2.700691        -0.879913 -0.076303    -1.356943 -0.905873   \n",
       "3                -0.636185        -1.818933 -0.649852     1.318719 -0.905873   \n",
       "4                -0.071040         0.293863  1.357572    -1.356943 -0.905873   \n",
       "\n",
       "       Pets  \n",
       "0 -0.567181  \n",
       "1  1.100123  \n",
       "2 -0.567181  \n",
       "3 -0.567181  \n",
       "4 -0.567181  "
      ]
     },
     "execution_count": 2,
     "metadata": {},
     "output_type": "execute_result"
    }
   ],
   "source": [
    "preprocessed_data = pd.read_csv('Absenteeism_preprocessed.csv')\n",
    "\n",
    "y = preprocessed_data['Absenteeism Time in Hours'] # dependent var\n",
    "X = preprocessed_data.drop('Absenteeism Time in Hours', axis = 1) # independent vars\n",
    "\n",
    "# Split into test, train\n",
    "from sklearn.model_selection import train_test_split\n",
    "X_train, X_test, y_train, y_test = train_test_split(X, y, test_size=0.2, random_state=42)\n",
    "\n",
    "\n",
    "# Create Scaler object to standardise features\n",
    "from sklearn.preprocessing import StandardScaler\n",
    "scaler = StandardScaler()\n",
    "\n",
    "# Features to be standardised\n",
    "cols_to_scale = ['Transportation Expense', 'Distance to Work', \\\n",
    "                'Age', 'Daily Work Load Average', 'Body Mass Index', 'month', 'day of week', 'Children', 'Pets']\n",
    "\n",
    "X_scaled = scaler.fit_transform(X_train[cols_to_scale])\n",
    "X_scaled_test = scaler.transform(X_test[cols_to_scale])\n",
    "\n",
    "train_scaled_df = pd.DataFrame(X_scaled, columns = cols_to_scale)\n",
    "test_scaled_df = pd.DataFrame(X_scaled_test, columns = cols_to_scale)\n",
    "\n",
    "# Add standardised features to new df with original df (drop original unstandardised features)\n",
    "train_scaled = pd.concat([X_train.drop(cols_to_scale, axis = 1).reset_index(), \\\n",
    "                           train_scaled_df], axis = 1)\n",
    "test_scaled = pd.concat([X_test.drop(cols_to_scale, axis = 1).reset_index(), \\\n",
    "                           test_scaled_df], axis = 1)\n",
    "\n",
    "# Remove index (caused when shuffling in train test split and resetting index)\n",
    "test_scaled.drop('index', inplace=True, axis = 1)\n",
    "train_scaled.drop('index', inplace=True, axis = 1)\n",
    "\n",
    "train_scaled.head()"
   ]
  },
  {
   "cell_type": "code",
   "execution_count": 3,
   "metadata": {},
   "outputs": [],
   "source": [
    "# Drop Education column\n",
    "\n",
    "train_scaled.drop('Education', inplace=True, axis = 1)\n",
    "test_scaled.drop('Education', inplace=True, axis = 1)"
   ]
  },
  {
   "cell_type": "markdown",
   "metadata": {},
   "source": [
    "### Target feature engineering\n",
    "\n",
    "    - Distinguish between groups that have been excessively absent and those that have been moderately absent\n",
    "    - We can use the medium value of Absenteeism time as cut off\n",
    "    - if value >  medium -> excessively absent"
   ]
  },
  {
   "cell_type": "code",
   "execution_count": 4,
   "metadata": {},
   "outputs": [
    {
     "data": {
      "text/plain": [
       "82     8\n",
       "51     0\n",
       "220    8\n",
       "669    2\n",
       "545    8\n",
       "Name: Absenteeism Time in Hours, dtype: int64"
      ]
     },
     "execution_count": 4,
     "metadata": {},
     "output_type": "execute_result"
    }
   ],
   "source": [
    "y_train.head()"
   ]
  },
  {
   "cell_type": "code",
   "execution_count": 5,
   "metadata": {},
   "outputs": [
    {
     "data": {
      "text/plain": [
       "82     1\n",
       "51     0\n",
       "220    1\n",
       "669    0\n",
       "545    1\n",
       "Name: Absenteeism Time in Hours, dtype: int64"
      ]
     },
     "execution_count": 5,
     "metadata": {},
     "output_type": "execute_result"
    }
   ],
   "source": [
    "threshold = y_train.median() # 3 hours\n",
    "\n",
    "train_targets = y_train.apply(lambda x: 0 if x <= threshold else 1)\n",
    "test_targets = y_test.apply(lambda x: 0 if x <= threshold else 1)\n",
    "\n",
    "train_targets.head()"
   ]
  },
  {
   "cell_type": "markdown",
   "metadata": {},
   "source": [
    "### Look at balance of targets"
   ]
  },
  {
   "cell_type": "code",
   "execution_count": 6,
   "metadata": {},
   "outputs": [
    {
     "data": {
      "text/plain": [
       "0.4660714285714286"
      ]
     },
     "execution_count": 6,
     "metadata": {},
     "output_type": "execute_result"
    }
   ],
   "source": [
    "train_targets.sum()/train_targets.shape[0]"
   ]
  },
  {
   "cell_type": "markdown",
   "metadata": {},
   "source": [
    "### Build models\n",
    "\n",
    "#### Use non-optimised model as baseline"
   ]
  },
  {
   "cell_type": "code",
   "execution_count": 7,
   "metadata": {},
   "outputs": [
    {
     "data": {
      "text/plain": [
       "0.8071428571428572"
      ]
     },
     "execution_count": 7,
     "metadata": {},
     "output_type": "execute_result"
    }
   ],
   "source": [
    "# Start model with default hyperparameters\n",
    "from sklearn.linear_model import LogisticRegression\n",
    "lr_clf = LogisticRegression()\n",
    "lr_clf.fit(train_scaled, train_targets)\n",
    "lr_clf.score(test_scaled, test_targets)"
   ]
  },
  {
   "cell_type": "markdown",
   "metadata": {},
   "source": [
    "### Check score on training set"
   ]
  },
  {
   "cell_type": "code",
   "execution_count": 8,
   "metadata": {},
   "outputs": [
    {
     "data": {
      "text/plain": [
       "0.7839285714285714"
      ]
     },
     "execution_count": 8,
     "metadata": {},
     "output_type": "execute_result"
    }
   ],
   "source": [
    "lr_clf.score(train_scaled, train_targets)"
   ]
  },
  {
   "cell_type": "markdown",
   "metadata": {},
   "source": [
    "### Optimise with gridsearch"
   ]
  },
  {
   "cell_type": "code",
   "execution_count": 9,
   "metadata": {},
   "outputs": [
    {
     "data": {
      "text/plain": [
       "{'C': 5, 'penalty': 'l1', 'solver': 'liblinear'}"
      ]
     },
     "execution_count": 9,
     "metadata": {},
     "output_type": "execute_result"
    }
   ],
   "source": [
    "from sklearn.model_selection import GridSearchCV\n",
    "\n",
    "lr_clf1 = LogisticRegression(max_iter = 1000, random_state=42)\n",
    "\n",
    "params = {'penalty': ['l1', 'l2'],\n",
    "         'C': [0.01, 0.1, 1, 3, 5, 10],\n",
    "         'solver': ['liblinear']}\n",
    "\n",
    "model = GridSearchCV(lr_clf1, params, cv=5)\n",
    "model.fit(train_scaled, train_targets)\n",
    "model.best_params_"
   ]
  },
  {
   "cell_type": "markdown",
   "metadata": {},
   "source": [
    "### Final model"
   ]
  },
  {
   "cell_type": "code",
   "execution_count": 10,
   "metadata": {},
   "outputs": [
    {
     "data": {
      "text/plain": [
       "0.8071428571428572"
      ]
     },
     "execution_count": 10,
     "metadata": {},
     "output_type": "execute_result"
    }
   ],
   "source": [
    "lr_clf_opt = LogisticRegression(max_iter = 1000, random_state=42, C = 5, penalty= 'l1', solver = 'liblinear')\n",
    "lr_clf_opt.fit(train_scaled, train_targets)\n",
    "lr_clf_opt.score(test_scaled, test_targets)"
   ]
  },
  {
   "cell_type": "markdown",
   "metadata": {},
   "source": [
    "### Find coefficients and intercepts"
   ]
  },
  {
   "cell_type": "code",
   "execution_count": 11,
   "metadata": {},
   "outputs": [
    {
     "data": {
      "text/plain": [
       "array([-4.41397083])"
      ]
     },
     "execution_count": 11,
     "metadata": {},
     "output_type": "execute_result"
    }
   ],
   "source": [
    "lr_clf_opt.intercept_"
   ]
  },
  {
   "cell_type": "code",
   "execution_count": 12,
   "metadata": {},
   "outputs": [
    {
     "data": {
      "text/plain": [
       "array([[ 5.80597026,  4.31074856,  6.52822243,  3.53827747, -0.61226306,\n",
       "         0.75066957, -0.12235074, -0.3068625 , -0.04648414,  0.26273031,\n",
       "         0.12828057, -0.15184481,  0.43074674, -0.57379703]])"
      ]
     },
     "execution_count": 12,
     "metadata": {},
     "output_type": "execute_result"
    }
   ],
   "source": [
    "lr_clf_opt.coef_"
   ]
  },
  {
   "cell_type": "code",
   "execution_count": 13,
   "metadata": {},
   "outputs": [
    {
     "data": {
      "text/html": [
       "<div>\n",
       "<style scoped>\n",
       "    .dataframe tbody tr th:only-of-type {\n",
       "        vertical-align: middle;\n",
       "    }\n",
       "\n",
       "    .dataframe tbody tr th {\n",
       "        vertical-align: top;\n",
       "    }\n",
       "\n",
       "    .dataframe thead th {\n",
       "        text-align: right;\n",
       "    }\n",
       "</style>\n",
       "<table border=\"1\" class=\"dataframe\">\n",
       "  <thead>\n",
       "    <tr style=\"text-align: right;\">\n",
       "      <th></th>\n",
       "      <th>Feature name</th>\n",
       "      <th>coefficients</th>\n",
       "    </tr>\n",
       "  </thead>\n",
       "  <tbody>\n",
       "    <tr>\n",
       "      <th>0</th>\n",
       "      <td>group_1</td>\n",
       "      <td>5.805970</td>\n",
       "    </tr>\n",
       "    <tr>\n",
       "      <th>1</th>\n",
       "      <td>group_2</td>\n",
       "      <td>4.310749</td>\n",
       "    </tr>\n",
       "    <tr>\n",
       "      <th>2</th>\n",
       "      <td>group_3</td>\n",
       "      <td>6.528222</td>\n",
       "    </tr>\n",
       "    <tr>\n",
       "      <th>3</th>\n",
       "      <td>group_4</td>\n",
       "      <td>3.538277</td>\n",
       "    </tr>\n",
       "    <tr>\n",
       "      <th>4</th>\n",
       "      <td>bEducation</td>\n",
       "      <td>-0.612263</td>\n",
       "    </tr>\n",
       "    <tr>\n",
       "      <th>5</th>\n",
       "      <td>Transportation Expense</td>\n",
       "      <td>0.750670</td>\n",
       "    </tr>\n",
       "    <tr>\n",
       "      <th>6</th>\n",
       "      <td>Distance to Work</td>\n",
       "      <td>-0.122351</td>\n",
       "    </tr>\n",
       "    <tr>\n",
       "      <th>7</th>\n",
       "      <td>Age</td>\n",
       "      <td>-0.306863</td>\n",
       "    </tr>\n",
       "    <tr>\n",
       "      <th>8</th>\n",
       "      <td>Daily Work Load Average</td>\n",
       "      <td>-0.046484</td>\n",
       "    </tr>\n",
       "    <tr>\n",
       "      <th>9</th>\n",
       "      <td>Body Mass Index</td>\n",
       "      <td>0.262730</td>\n",
       "    </tr>\n",
       "    <tr>\n",
       "      <th>10</th>\n",
       "      <td>month</td>\n",
       "      <td>0.128281</td>\n",
       "    </tr>\n",
       "    <tr>\n",
       "      <th>11</th>\n",
       "      <td>day of week</td>\n",
       "      <td>-0.151845</td>\n",
       "    </tr>\n",
       "    <tr>\n",
       "      <th>12</th>\n",
       "      <td>Children</td>\n",
       "      <td>0.430747</td>\n",
       "    </tr>\n",
       "    <tr>\n",
       "      <th>13</th>\n",
       "      <td>Pets</td>\n",
       "      <td>-0.573797</td>\n",
       "    </tr>\n",
       "  </tbody>\n",
       "</table>\n",
       "</div>"
      ],
      "text/plain": [
       "               Feature name  coefficients\n",
       "0                   group_1      5.805970\n",
       "1                   group_2      4.310749\n",
       "2                   group_3      6.528222\n",
       "3                   group_4      3.538277\n",
       "4                bEducation     -0.612263\n",
       "5    Transportation Expense      0.750670\n",
       "6          Distance to Work     -0.122351\n",
       "7                       Age     -0.306863\n",
       "8   Daily Work Load Average     -0.046484\n",
       "9           Body Mass Index      0.262730\n",
       "10                    month      0.128281\n",
       "11              day of week     -0.151845\n",
       "12                 Children      0.430747\n",
       "13                     Pets     -0.573797"
      ]
     },
     "execution_count": 13,
     "metadata": {},
     "output_type": "execute_result"
    }
   ],
   "source": [
    "features = train_scaled.columns.values\n",
    "\n",
    "summary_table = pd.DataFrame(features, columns = ['Feature name'])\n",
    "summary_table['coefficients'] = lr_clf_opt.coef_[0]\n",
    "summary_table"
   ]
  },
  {
   "cell_type": "markdown",
   "metadata": {},
   "source": [
    "### Save Model and Scaler"
   ]
  },
  {
   "cell_type": "code",
   "execution_count": 16,
   "metadata": {},
   "outputs": [],
   "source": [
    "import pickle\n",
    "with open('model', 'wb') as file:\n",
    "    pickle.dump(lr_clf_opt, file)\n",
    "    \n",
    "with open('scaler', 'wb') as file:\n",
    "    pickle.dump(scaler, file)"
   ]
  }
 ],
 "metadata": {
  "kernelspec": {
   "display_name": "Python 3",
   "language": "python",
   "name": "python3"
  },
  "language_info": {
   "codemirror_mode": {
    "name": "ipython",
    "version": 3
   },
   "file_extension": ".py",
   "mimetype": "text/x-python",
   "name": "python",
   "nbconvert_exporter": "python",
   "pygments_lexer": "ipython3",
   "version": "3.8.3"
  }
 },
 "nbformat": 4,
 "nbformat_minor": 4
}
